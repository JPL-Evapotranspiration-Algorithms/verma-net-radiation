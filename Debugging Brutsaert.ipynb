{
 "cells": [
  {
   "cell_type": "code",
   "execution_count": 1,
   "id": "d38f19dd",
   "metadata": {},
   "outputs": [],
   "source": [
    "import numpy as np\n",
    "from verma_net_radiation import brutsaert_atmospheric_emissivity"
   ]
  },
  {
   "cell_type": "code",
   "execution_count": 2,
   "id": "6a633e4e",
   "metadata": {},
   "outputs": [
    {
     "data": {
      "text/plain": [
       "array([2766.5550868059654, 2766.5550868059654, 2766.5550868059654, ...,\n",
       "       1658.586944508865, 1658.586944508865, 1658.586944508865],\n",
       "      shape=(106300,), dtype=object)"
      ]
     },
     "execution_count": 2,
     "metadata": {},
     "output_type": "execute_result"
    }
   ],
   "source": [
    "Ea_Pa = np.load(\"Ea_Pa.npy\", allow_pickle=True)\n",
    "Ea_Pa"
   ]
  },
  {
   "cell_type": "code",
   "execution_count": 3,
   "id": "ed59d3e2",
   "metadata": {},
   "outputs": [
    {
     "data": {
      "text/plain": [
       "numpy.ndarray"
      ]
     },
     "execution_count": 3,
     "metadata": {},
     "output_type": "execute_result"
    }
   ],
   "source": [
    "type(Ea_Pa)"
   ]
  },
  {
   "cell_type": "code",
   "execution_count": 4,
   "id": "79d3c536",
   "metadata": {},
   "outputs": [
    {
     "data": {
      "text/plain": [
       "148.1866571434283"
      ]
     },
     "execution_count": 4,
     "metadata": {},
     "output_type": "execute_result"
    }
   ],
   "source": [
    "np.nanmin(Ea_Pa)"
   ]
  },
  {
   "cell_type": "code",
   "execution_count": 5,
   "id": "e808029f",
   "metadata": {},
   "outputs": [
    {
     "data": {
      "text/plain": [
       "np.True_"
      ]
     },
     "execution_count": 5,
     "metadata": {},
     "output_type": "execute_result"
    }
   ],
   "source": [
    "np.isreal(Ea_Pa).all()"
   ]
  },
  {
   "cell_type": "code",
   "execution_count": 6,
   "id": "57ef5695",
   "metadata": {},
   "outputs": [
    {
     "data": {
      "text/plain": [
       "array([305.80892, 305.80892, 305.80892, ..., 303.466103, 303.466103,\n",
       "       303.466103], shape=(106300,), dtype=object)"
      ]
     },
     "execution_count": 6,
     "metadata": {},
     "output_type": "execute_result"
    }
   ],
   "source": [
    "Ta_K = np.load(\"Ta_K.npy\", allow_pickle=True)\n",
    "Ta_K"
   ]
  },
  {
   "cell_type": "code",
   "execution_count": 7,
   "id": "301e970a",
   "metadata": {},
   "outputs": [
    {
     "data": {
      "text/plain": [
       "numpy.ndarray"
      ]
     },
     "execution_count": 7,
     "metadata": {},
     "output_type": "execute_result"
    }
   ],
   "source": [
    "type(Ta_K)"
   ]
  },
  {
   "cell_type": "code",
   "execution_count": 8,
   "id": "3792cb13",
   "metadata": {},
   "outputs": [
    {
     "data": {
      "text/plain": [
       "np.True_"
      ]
     },
     "execution_count": 8,
     "metadata": {},
     "output_type": "execute_result"
    }
   ],
   "source": [
    "np.isreal(Ta_K).all()"
   ]
  },
  {
   "cell_type": "code",
   "execution_count": 9,
   "id": "3ce69f69",
   "metadata": {},
   "outputs": [
    {
     "data": {
      "text/plain": [
       "258.54495199999997"
      ]
     },
     "execution_count": 9,
     "metadata": {},
     "output_type": "execute_result"
    }
   ],
   "source": [
    "np.nanmin(Ta_K)"
   ]
  },
  {
   "cell_type": "code",
   "execution_count": 10,
   "id": "5c39a7df",
   "metadata": {},
   "outputs": [
    {
     "data": {
      "text/plain": [
       "array([0.87351031, 0.87351031, 0.87351031, ..., 0.81841724, 0.81841724,\n",
       "       0.81841724], shape=(106300,))"
      ]
     },
     "execution_count": 10,
     "metadata": {},
     "output_type": "execute_result"
    }
   ],
   "source": [
    "result = brutsaert_atmospheric_emissivity(\n",
    "    Ea_Pa=Ea_Pa,\n",
    "    Ta_K=Ta_K\n",
    ")\n",
    "\n",
    "result"
   ]
  },
  {
   "cell_type": "code",
   "execution_count": null,
   "id": "4a27c3cb",
   "metadata": {},
   "outputs": [],
   "source": []
  }
 ],
 "metadata": {
  "kernelspec": {
   "display_name": "verma-net-radiation",
   "language": "python",
   "name": "python3"
  },
  "language_info": {
   "codemirror_mode": {
    "name": "ipython",
    "version": 3
   },
   "file_extension": ".py",
   "mimetype": "text/x-python",
   "name": "python",
   "nbconvert_exporter": "python",
   "pygments_lexer": "ipython3",
   "version": "3.10.18"
  }
 },
 "nbformat": 4,
 "nbformat_minor": 5
}

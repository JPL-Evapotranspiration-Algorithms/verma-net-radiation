{
 "cells": [
  {
   "cell_type": "code",
   "execution_count": 1,
   "id": "e24f12db",
   "metadata": {},
   "outputs": [],
   "source": [
    "from verma_net_radiation import verify"
   ]
  },
  {
   "cell_type": "code",
   "execution_count": 2,
   "id": "96af5756",
   "metadata": {},
   "outputs": [
    {
     "name": "stdout",
     "output_type": "stream",
     "text": [
      "[2025-08-20 14:56:30 INFO] starting Verma net radiation processing\n",
      "[2025-08-20 14:56:30 INFO] variable \u001b[33mSWout_Wm2\u001b[0m min: \u001b[36m0.000\u001b[0m mean: \u001b[36m66.193\u001b[0m max: \u001b[36m278.058\u001b[0m nan: \u001b[36m0.00%\u001b[0m (\u001b[36mnan\u001b[0m)\n",
      "[2025-08-20 14:56:30 INFO] variable \u001b[33mSWnet_Wm2\u001b[0m min: \u001b[36m0.000\u001b[0m mean: \u001b[36m540.741\u001b[0m max: \u001b[36m929.140\u001b[0m nan: \u001b[36m0.00%\u001b[0m (\u001b[36mnan\u001b[0m)\n",
      "[2025-08-20 14:56:30 INFO] variable \u001b[33mLWin_Wm2\u001b[0m min: \u001b[36m175.737\u001b[0m mean: \u001b[36m343.651\u001b[0m max: \u001b[36m473.521\u001b[0m nan: \u001b[36m0.00%\u001b[0m (\u001b[36mnan\u001b[0m)\n",
      "[2025-08-20 14:56:30 INFO] variable \u001b[33mLWout_Wm2\u001b[0m min: \u001b[36m240.846\u001b[0m mean: \u001b[36m462.295\u001b[0m max: \u001b[36m693.334\u001b[0m nan: \u001b[36m0.00%\u001b[0m (\u001b[36mnan\u001b[0m)\n",
      "[2025-08-20 14:56:30 INFO] variable \u001b[33mRn_Wm2\u001b[0m min: \u001b[36m0.000\u001b[0m mean: \u001b[36m422.206\u001b[0m max: \u001b[36m843.390\u001b[0m nan: \u001b[36m0.00%\u001b[0m (\u001b[36mnan\u001b[0m)\n",
      "[2025-08-20 14:56:30 INFO] variable \u001b[33mRn_daylight_Wm2\u001b[0m min: \u001b[36m0.000\u001b[0m mean: \u001b[36m257.722\u001b[0m max: \u001b[36m443.569\u001b[0m nan: \u001b[36m0.00%\u001b[0m (\u001b[36mnan\u001b[0m)\n",
      "[2025-08-20 14:56:30 INFO] Verma net radiation processing complete in 0.02 seconds\n"
     ]
    },
    {
     "ename": "RuntimeError",
     "evalue": "Verification failed. Details:\n  Missing column: Rn_daylight_Wm2",
     "output_type": "error",
     "traceback": [
      "\u001b[0;31m---------------------------------------------------------------------------\u001b[0m",
      "\u001b[0;31mRuntimeError\u001b[0m                              Traceback (most recent call last)",
      "Cell \u001b[0;32mIn[2], line 1\u001b[0m\n\u001b[0;32m----> 1\u001b[0m \u001b[43mverify\u001b[49m\u001b[43m(\u001b[49m\u001b[43m)\u001b[49m\n",
      "File \u001b[0;32m~/Projects/verma-net-radiation/verma_net_radiation/verify.py:70\u001b[0m, in \u001b[0;36mverify\u001b[0;34m()\u001b[0m\n\u001b[1;32m     68\u001b[0m             error_msgs\u001b[38;5;241m.\u001b[39mappend(\u001b[38;5;124mf\u001b[39m\u001b[38;5;124m\"\u001b[39m\u001b[38;5;124m    Reference values: \u001b[39m\u001b[38;5;132;01m{\u001b[39;00minfo[\u001b[38;5;124m'\u001b[39m\u001b[38;5;124mref_values\u001b[39m\u001b[38;5;124m'\u001b[39m]\u001b[38;5;132;01m}\u001b[39;00m\u001b[38;5;124m\"\u001b[39m)\n\u001b[1;32m     69\u001b[0m             error_msgs\u001b[38;5;241m.\u001b[39mappend(\u001b[38;5;124mf\u001b[39m\u001b[38;5;124m\"\u001b[39m\u001b[38;5;124m    Differences: \u001b[39m\u001b[38;5;132;01m{\u001b[39;00minfo[\u001b[38;5;124m'\u001b[39m\u001b[38;5;124mdiffs\u001b[39m\u001b[38;5;124m'\u001b[39m]\u001b[38;5;132;01m}\u001b[39;00m\u001b[38;5;124m\"\u001b[39m)\n\u001b[0;32m---> 70\u001b[0m     \u001b[38;5;28;01mraise\u001b[39;00m \u001b[38;5;167;01mRuntimeError\u001b[39;00m(\u001b[38;5;124m\"\u001b[39m\u001b[38;5;130;01m\\n\u001b[39;00m\u001b[38;5;124m\"\u001b[39m\u001b[38;5;241m.\u001b[39mjoin(error_msgs))\n\u001b[1;32m     71\u001b[0m \u001b[38;5;28;01mreturn\u001b[39;00m \u001b[38;5;28;01mTrue\u001b[39;00m\n",
      "\u001b[0;31mRuntimeError\u001b[0m: Verification failed. Details:\n  Missing column: Rn_daylight_Wm2"
     ]
    }
   ],
   "source": [
    "verify()"
   ]
  },
  {
   "cell_type": "code",
   "execution_count": null,
   "id": "283ecfc1",
   "metadata": {},
   "outputs": [],
   "source": []
  }
 ],
 "metadata": {
  "kernelspec": {
   "display_name": "verma-net-radiation",
   "language": "python",
   "name": "python3"
  },
  "language_info": {
   "codemirror_mode": {
    "name": "ipython",
    "version": 3
   },
   "file_extension": ".py",
   "mimetype": "text/x-python",
   "name": "python",
   "nbconvert_exporter": "python",
   "pygments_lexer": "ipython3",
   "version": "3.10.18"
  }
 },
 "nbformat": 4,
 "nbformat_minor": 5
}
